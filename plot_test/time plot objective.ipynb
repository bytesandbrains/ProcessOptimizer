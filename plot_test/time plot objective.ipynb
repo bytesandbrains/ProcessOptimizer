{
 "cells": [
  {
   "cell_type": "markdown",
   "metadata": {},
   "source": [
    "# ProcessOptimize examples\n",
    "\n",
    "Sigurd carlsen 20 feb 2019"
   ]
  },
  {
   "cell_type": "markdown",
   "metadata": {},
   "source": [
    "This notebook serves to showcase the new features that are being added to the scikit-optimize fork: ProcessOptimizer"
   ]
  },
  {
   "cell_type": "code",
   "execution_count": 61,
   "metadata": {},
   "outputs": [],
   "source": [
    "# We append to system path as we are not using the pip version of ProcessOptimizer. \n",
    "# Be sure to inser the correct path to ProcessOptimizer here:\n",
    "\n",
    "#import sys\n",
    "#sys.path.append('/home/sigurd/dev/ProcessOptimizer')\n",
    "from ProcessOptimizer.benchmarks import branin as branin\n",
    "from ProcessOptimizer.benchmarks import hart6 as hart6_\n",
    "from ProcessOptimizer.plots import plot_objective\n",
    "from ProcessOptimizer import gp_minimize, forest_minimize, dummy_minimize\n",
    "from ProcessOptimizer import plots\n",
    "from ProcessOptimizer.plots import _evenly_sample\n",
    "from ProcessOptimizer.space import Space\n",
    "import time"
   ]
  },
  {
   "cell_type": "code",
   "execution_count": 62,
   "metadata": {},
   "outputs": [
    {
     "data": {
      "text/plain": [
       "<Figure size 432x288 with 0 Axes>"
      ]
     },
     "metadata": {},
     "output_type": "display_data"
    }
   ],
   "source": [
    "# For reproducibility\n",
    "import numpy as np\n",
    "np.random.seed(123)\n",
    "import matplotlib.pyplot as plt\n",
    "plt.set_cmap(\"viridis\")"
   ]
  },
  {
   "cell_type": "markdown",
   "metadata": {},
   "source": [
    "# plot_objective\n",
    "\n",
    "Plot objective now supports optional use of partial dependence as well as different methods of defining parameter values for dependency plots"
   ]
  },
  {
   "cell_type": "code",
   "execution_count": 63,
   "metadata": {},
   "outputs": [],
   "source": [
    "# Here we define a function that we evaluate.\n",
    "def funny_func(x):\n",
    "    s = 0\n",
    "    for i in range(len(x)):\n",
    "        s += (x[i]*i)**2\n",
    "    return s"
   ]
  },
  {
   "cell_type": "code",
   "execution_count": 64,
   "metadata": {},
   "outputs": [],
   "source": [
    "# We run forest_minimize on the function\n",
    "bounds = [(-1, 1.),] * 4\n",
    "n_calls = 20\n",
    "result = gp_minimize(funny_func, bounds, n_calls=40)"
   ]
  },
  {
   "cell_type": "markdown",
   "metadata": {},
   "source": [
    "Here we see an example of using partial dependence. Even when setting n_points all the way down to 10 from the default of 40, this method is still very slow. This is because partial dependence calculates 250 extra predictions for each point on the plots."
   ]
  },
  {
   "cell_type": "code",
   "execution_count": 195,
   "metadata": {},
   "outputs": [],
   "source": [
    "space = Space(bounds)\n",
    "model = result.models[-1]\n",
    "i=0\n",
    "j=None\n",
    "sample_points=None\n",
    "n_samples=100\n",
    "n_points=10\n",
    "x_eval = None"
   ]
  },
  {
   "cell_type": "code",
   "execution_count": 196,
   "metadata": {},
   "outputs": [
    {
     "name": "stdout",
     "output_type": "stream",
     "text": [
      "time old : 0.0054931640625\n",
      "time new : 0.003492593765258789\n"
     ]
    }
   ],
   "source": [
    "a=time.time()\n",
    "yi = dependence(space, model, i, j=j, sample_points=sample_points,\n",
    "                       n_samples=n_samples, n_points=n_points, x_eval = x_eval)\n",
    "print(\"time old : \" + str(time.time()-a))\n",
    "a=time.time()\n",
    "yi = new_dependence(space, model, i, j=j, sample_points=sample_points,\n",
    "                       n_samples=n_samples, n_points=n_points, x_eval = x_eval)\n",
    "print(\"time new : \" + str(time.time()-a))"
   ]
  },
  {
   "cell_type": "code",
   "execution_count": 197,
   "metadata": {},
   "outputs": [],
   "source": [
    "# to transformed (model) dimensions.\n",
    "\n",
    "# If we havent parsed an x_eval list we use random sampled values instead\n",
    "if x_eval is None:\n",
    "    sample_points = space.transform(space.rvs(n_samples=n_samples))\n",
    "else:\n",
    "    sample_points = space.transform([x_eval])\n",
    "\n",
    "# dim_locs[i] is the (column index of the) start of dim i in sample_points.\n",
    "# This is usefull when we are using one hot encoding, i.e using categorical values\n",
    "dim_locs = np.cumsum([0] + [d.transformed_size for d in space.dimensions])"
   ]
  },
  {
   "cell_type": "code",
   "execution_count": 198,
   "metadata": {},
   "outputs": [],
   "source": [
    "if j is None:\n",
    "    # We sample evenly instead of randomly. This is necessary when using\n",
    "    # categorical values\n",
    "    xi, xi_transformed = _evenly_sample(space.dimensions[i], n_points)\n",
    "    yi = []\n",
    "    for x_ in xi_transformed:\n",
    "        rvs_ = np.array(sample_points)      # copy\n",
    "        # We replace the values in the dimension that we want to keep fixed\n",
    "        rvs_[:, dim_locs[i]:dim_locs[i + 1]] = x_ \n",
    "        # In case of `x_eval=None` rvs conists of random samples.\n",
    "        # Calculating the mean of these samples is how partial dependence\n",
    "        # is implemented.\n",
    "        yi.append(np.mean(model.predict(rvs_)))\n",
    "\n",
    "\n",
    "\n",
    "else:\n",
    "    xi, xi_transformed = _evenly_sample(space.dimensions[j], n_points)\n",
    "    yi, yi_transformed = _evenly_sample(space.dimensions[i], n_points)\n",
    "\n",
    "    zi = []\n",
    "    for x_ in xi_transformed:\n",
    "        row = []\n",
    "        for y_ in yi_transformed:\n",
    "            rvs_ = np.array(sample_points)      # copy\n",
    "            rvs_[:, dim_locs[j]:dim_locs[j + 1]] = x_\n",
    "            rvs_[:, dim_locs[i]:dim_locs[i + 1]] = y_\n",
    "            row.append(np.mean(model.predict(rvs_)))\n",
    "        zi.append(row)"
   ]
  },
  {
   "cell_type": "code",
   "execution_count": 199,
   "metadata": {},
   "outputs": [],
   "source": [
    "xi, xi_transformed = _evenly_sample(space.dimensions[i], n_points)\n",
    "yi = []\n",
    "\n",
    "\n",
    "rvs_all_ = np.zeros([n_samples*n_points,len(dim_locs)-1])\n",
    "for i_points in range(n_points):\n",
    "    x_ = xi_transformed[i_points]\n",
    "    \n",
    "    rvs_ = np.array(sample_points)      # copy\n",
    "    # We replace the values in the dimension that we want to keep fixed\n",
    "    rvs_[:, dim_locs[i]:dim_locs[i + 1]] = x_  \n",
    "    rvs_all_[i_points*n_samples:(i_points+1)*n_samples,:] = rvs_\n",
    "    # In case of `x_eval=None` rvs conists of random samples.\n",
    "    # Calculating the mean of these samples is how partial dependence\n",
    "    # is implemented.\n",
    "    \n",
    "predictions = model.predict(rvs_all_)\n",
    "for i_points in range(n_points):\n",
    "    yi.append(np.mean(predictions[i_points*n_samples:(i_points+1)*n_samples]))"
   ]
  },
  {
   "cell_type": "code",
   "execution_count": 145,
   "metadata": {},
   "outputs": [],
   "source": [
    "yiNew = yi"
   ]
  },
  {
   "cell_type": "code",
   "execution_count": 147,
   "metadata": {},
   "outputs": [
    {
     "data": {
      "text/plain": [
       "False"
      ]
     },
     "execution_count": 147,
     "metadata": {},
     "output_type": "execute_result"
    }
   ],
   "source": [
    "yiNew == yi"
   ]
  },
  {
   "cell_type": "code",
   "execution_count": 156,
   "metadata": {},
   "outputs": [
    {
     "data": {
      "text/plain": [
       "18.536460682673727"
      ]
     },
     "execution_count": 156,
     "metadata": {},
     "output_type": "execute_result"
    }
   ],
   "source": [
    "yiNew[8]"
   ]
  },
  {
   "cell_type": "code",
   "execution_count": 157,
   "metadata": {},
   "outputs": [
    {
     "data": {
      "text/plain": [
       "18.536460682673727"
      ]
     },
     "execution_count": 157,
     "metadata": {},
     "output_type": "execute_result"
    }
   ],
   "source": [
    "yi[8]"
   ]
  },
  {
   "cell_type": "code",
   "execution_count": 140,
   "metadata": {},
   "outputs": [
    {
     "data": {
      "text/plain": [
       "18.55725389144855"
      ]
     },
     "execution_count": 140,
     "metadata": {},
     "output_type": "execute_result"
    }
   ],
   "source": [
    "np.mean(model.predict(rvs_))"
   ]
  },
  {
   "cell_type": "code",
   "execution_count": 139,
   "metadata": {},
   "outputs": [
    {
     "data": {
      "text/plain": [
       "array([[-1.        , -0.83644348,  0.17536625,  0.01116621],\n",
       "       [-1.        , -0.81086254, -0.47680427, -0.33058729],\n",
       "       [-1.        ,  0.36974476, -0.61352029, -0.24970148],\n",
       "       ...,\n",
       "       [ 1.        ,  0.38525138,  0.6535335 , -0.47890236],\n",
       "       [ 1.        ,  0.82952908,  0.2068714 , -0.58548328],\n",
       "       [ 1.        , -0.41710308,  0.32962942, -0.74189122]])"
      ]
     },
     "execution_count": 139,
     "metadata": {},
     "output_type": "execute_result"
    }
   ],
   "source": [
    "rvs_all_"
   ]
  },
  {
   "cell_type": "code",
   "execution_count": 117,
   "metadata": {},
   "outputs": [],
   "source": [
    "a=np.array([1,2,3,4,5,6,7,8,9,10,11,12])"
   ]
  },
  {
   "cell_type": "code",
   "execution_count": 122,
   "metadata": {},
   "outputs": [
    {
     "name": "stdout",
     "output_type": "stream",
     "text": [
      "[1 2 3 4]\n",
      "[5 6 7 8]\n",
      "[ 9 10 11 12]\n"
     ]
    }
   ],
   "source": [
    "for i in range(3):\n",
    "    print(a[i*4:(i+1)*4,])\n"
   ]
  },
  {
   "cell_type": "code",
   "execution_count": 120,
   "metadata": {},
   "outputs": [
    {
     "data": {
      "text/plain": [
       "array([1, 2, 3, 4])"
      ]
     },
     "execution_count": 120,
     "metadata": {},
     "output_type": "execute_result"
    }
   ],
   "source": [
    "a[0:4]"
   ]
  },
  {
   "cell_type": "code",
   "execution_count": 121,
   "metadata": {},
   "outputs": [
    {
     "data": {
      "text/plain": [
       "array([5, 6, 7, 8])"
      ]
     },
     "execution_count": 121,
     "metadata": {},
     "output_type": "execute_result"
    }
   ],
   "source": [
    "a[4:8]"
   ]
  },
  {
   "cell_type": "code",
   "execution_count": 114,
   "metadata": {},
   "outputs": [
    {
     "data": {
      "text/plain": [
       "40"
      ]
     },
     "execution_count": 114,
     "metadata": {},
     "output_type": "execute_result"
    }
   ],
   "source": [
    "n_points"
   ]
  },
  {
   "cell_type": "code",
   "execution_count": 113,
   "metadata": {},
   "outputs": [
    {
     "data": {
      "text/plain": [
       "(40,)"
      ]
     },
     "execution_count": 113,
     "metadata": {},
     "output_type": "execute_result"
    }
   ],
   "source": [
    "np.shape(xi_transformed)"
   ]
  },
  {
   "cell_type": "code",
   "execution_count": 108,
   "metadata": {},
   "outputs": [
    {
     "data": {
      "text/plain": [
       "(1000, 4)"
      ]
     },
     "execution_count": 108,
     "metadata": {},
     "output_type": "execute_result"
    }
   ],
   "source": [
    "np.shape(rvs_)"
   ]
  },
  {
   "cell_type": "code",
   "execution_count": 111,
   "metadata": {},
   "outputs": [
    {
     "data": {
      "text/plain": [
       "(2, 4)"
      ]
     },
     "execution_count": 111,
     "metadata": {},
     "output_type": "execute_result"
    }
   ],
   "source": [
    "np.shape(rvs_[0:2,:])"
   ]
  },
  {
   "cell_type": "code",
   "execution_count": 106,
   "metadata": {},
   "outputs": [
    {
     "data": {
      "text/plain": [
       "array([[0., 0., 0., 0.]])"
      ]
     },
     "execution_count": 106,
     "metadata": {},
     "output_type": "execute_result"
    }
   ],
   "source": [
    "rvs_all_[1:2,:]"
   ]
  },
  {
   "cell_type": "code",
   "execution_count": 98,
   "metadata": {},
   "outputs": [
    {
     "data": {
      "text/plain": [
       "5"
      ]
     },
     "execution_count": 98,
     "metadata": {},
     "output_type": "execute_result"
    }
   ],
   "source": [
    "len(dim_locs)"
   ]
  },
  {
   "cell_type": "code",
   "execution_count": null,
   "metadata": {},
   "outputs": [],
   "source": [
    "np.append()"
   ]
  },
  {
   "cell_type": "code",
   "execution_count": 103,
   "metadata": {},
   "outputs": [
    {
     "data": {
      "text/plain": [
       "(1000, 4)"
      ]
     },
     "execution_count": 103,
     "metadata": {},
     "output_type": "execute_result"
    }
   ],
   "source": [
    "np.shape(rvs2)"
   ]
  },
  {
   "cell_type": "code",
   "execution_count": 97,
   "metadata": {},
   "outputs": [
    {
     "ename": "AttributeError",
     "evalue": "'numpy.ndarray' object has no attribute 'append'",
     "output_type": "error",
     "traceback": [
      "\u001b[0;31m---------------------------------------------------------------------------\u001b[0m",
      "\u001b[0;31mAttributeError\u001b[0m                            Traceback (most recent call last)",
      "\u001b[0;32m<ipython-input-97-50bef73375ce>\u001b[0m in \u001b[0;36m<module>\u001b[0;34m\u001b[0m\n\u001b[0;32m----> 1\u001b[0;31m \u001b[0mrvs2\u001b[0m\u001b[0;34m.\u001b[0m\u001b[0mappend\u001b[0m\u001b[0;34m(\u001b[0m\u001b[0mrvs_\u001b[0m\u001b[0;34m)\u001b[0m\u001b[0;34m\u001b[0m\u001b[0;34m\u001b[0m\u001b[0m\n\u001b[0m",
      "\u001b[0;31mAttributeError\u001b[0m: 'numpy.ndarray' object has no attribute 'append'"
     ]
    }
   ],
   "source": [
    "rvs2.append(rvs_)"
   ]
  },
  {
   "cell_type": "code",
   "execution_count": 95,
   "metadata": {},
   "outputs": [],
   "source": [
    "rvs2 = rvs_"
   ]
  },
  {
   "cell_type": "code",
   "execution_count": null,
   "metadata": {},
   "outputs": [],
   "source": [
    "rvs"
   ]
  },
  {
   "cell_type": "code",
   "execution_count": 86,
   "metadata": {},
   "outputs": [
    {
     "data": {
      "text/plain": [
       "40"
      ]
     },
     "execution_count": 86,
     "metadata": {},
     "output_type": "execute_result"
    }
   ],
   "source": [
    "len(xi)"
   ]
  },
  {
   "cell_type": "code",
   "execution_count": 82,
   "metadata": {},
   "outputs": [
    {
     "data": {
      "text/plain": [
       "[18.512420808345713,\n",
       " 18.513008894358304,\n",
       " 18.51360077473212,\n",
       " 18.514196447703434,\n",
       " 18.51479591147577,\n",
       " 18.515399164224327,\n",
       " 18.51600620410258,\n",
       " 18.51661702923099,\n",
       " 18.517231637708793,\n",
       " 18.517850027602837,\n",
       " 18.51847219695527,\n",
       " 18.51909814378508,\n",
       " 18.519727866081826,\n",
       " 18.52036136181273,\n",
       " 18.520998628913773,\n",
       " 18.521639665297684,\n",
       " 18.52228446885755,\n",
       " 18.522933037448755,\n",
       " 18.523585368914784,\n",
       " 18.524241461064296,\n",
       " 18.524901311684467,\n",
       " 18.525564918539718,\n",
       " 18.52623227936647,\n",
       " 18.52690339187994,\n",
       " 18.52757825376602,\n",
       " 18.52825686269215,\n",
       " 18.52893921629699,\n",
       " 18.529625312194927,\n",
       " 18.53031514798303,\n",
       " 18.531008721224666,\n",
       " 18.53170602946697,\n",
       " 18.53240707022736,\n",
       " 18.533111841008125,\n",
       " 18.533820339274854,\n",
       " 18.534532562483896,\n",
       " 18.53524850805819,\n",
       " 18.535968173399567,\n",
       " 18.536691555888094,\n",
       " 18.53741865288077,\n",
       " 18.538149461709697]"
      ]
     },
     "execution_count": 82,
     "metadata": {},
     "output_type": "execute_result"
    }
   ],
   "source": [
    "yi"
   ]
  },
  {
   "cell_type": "code",
   "execution_count": 80,
   "metadata": {},
   "outputs": [
    {
     "data": {
      "text/plain": [
       "[18.512420808345713,\n",
       " 18.513008894358304,\n",
       " 18.51360077473212,\n",
       " 18.514196447703434,\n",
       " 18.51479591147577,\n",
       " 18.515399164224327,\n",
       " 18.51600620410258,\n",
       " 18.51661702923099,\n",
       " 18.517231637708793,\n",
       " 18.517850027602837,\n",
       " 18.51847219695527,\n",
       " 18.51909814378508,\n",
       " 18.519727866081826,\n",
       " 18.52036136181273,\n",
       " 18.520998628913773,\n",
       " 18.521639665297684,\n",
       " 18.52228446885755,\n",
       " 18.522933037448755,\n",
       " 18.523585368914784,\n",
       " 18.524241461064296,\n",
       " 18.524901311684467,\n",
       " 18.525564918539718,\n",
       " 18.52623227936647,\n",
       " 18.52690339187994,\n",
       " 18.52757825376602,\n",
       " 18.52825686269215,\n",
       " 18.52893921629699,\n",
       " 18.529625312194927,\n",
       " 18.53031514798303,\n",
       " 18.531008721224666,\n",
       " 18.53170602946697,\n",
       " 18.53240707022736,\n",
       " 18.533111841008125,\n",
       " 18.533820339274854,\n",
       " 18.534532562483896,\n",
       " 18.53524850805819,\n",
       " 18.535968173399567,\n",
       " 18.536691555888094,\n",
       " 18.53741865288077,\n",
       " 18.538149461709697]"
      ]
     },
     "execution_count": 80,
     "metadata": {},
     "output_type": "execute_result"
    }
   ],
   "source": [
    "yiBase"
   ]
  },
  {
   "cell_type": "code",
   "execution_count": 79,
   "metadata": {},
   "outputs": [
    {
     "data": {
      "text/plain": [
       "[18.512420808345713,\n",
       " 18.513008894358304,\n",
       " 18.51360077473212,\n",
       " 18.514196447703434,\n",
       " 18.51479591147577,\n",
       " 18.515399164224327,\n",
       " 18.51600620410258,\n",
       " 18.51661702923099,\n",
       " 18.517231637708793,\n",
       " 18.517850027602837,\n",
       " 18.51847219695527,\n",
       " 18.51909814378508,\n",
       " 18.519727866081826,\n",
       " 18.52036136181273,\n",
       " 18.520998628913773,\n",
       " 18.521639665297684,\n",
       " 18.52228446885755,\n",
       " 18.522933037448755,\n",
       " 18.523585368914784,\n",
       " 18.524241461064296,\n",
       " 18.524901311684467,\n",
       " 18.525564918539718,\n",
       " 18.52623227936647,\n",
       " 18.52690339187994,\n",
       " 18.52757825376602,\n",
       " 18.52825686269215,\n",
       " 18.52893921629699,\n",
       " 18.529625312194927,\n",
       " 18.53031514798303,\n",
       " 18.531008721224666,\n",
       " 18.53170602946697,\n",
       " 18.53240707022736,\n",
       " 18.533111841008125,\n",
       " 18.533820339274854,\n",
       " 18.534532562483896,\n",
       " 18.53524850805819,\n",
       " 18.535968173399567,\n",
       " 18.536691555888094,\n",
       " 18.53741865288077,\n",
       " 18.538149461709697]"
      ]
     },
     "execution_count": 79,
     "metadata": {},
     "output_type": "execute_result"
    }
   ],
   "source": [
    "yi"
   ]
  },
  {
   "cell_type": "code",
   "execution_count": 77,
   "metadata": {},
   "outputs": [],
   "source": [
    "yiBase = yi"
   ]
  },
  {
   "cell_type": "code",
   "execution_count": 60,
   "metadata": {},
   "outputs": [
    {
     "name": "stdout",
     "output_type": "stream",
     "text": [
      "job took 3.736689805984497 seconds\n"
     ]
    }
   ],
   "source": [
    "tStart = time.time()\n",
    "i=0\n",
    "a = dependence(space.Space(bounds),result.models[-1],i,j=2, sample_points=None,\n",
    "                       n_samples=1000, n_points=40, x_eval = None)\n",
    "print(\"job took \"+str(time.time()-tStart)+\" seconds\")"
   ]
  },
  {
   "cell_type": "code",
   "execution_count": 50,
   "metadata": {
    "scrolled": true
   },
   "outputs": [
    {
     "name": "stdout",
     "output_type": "stream",
     "text": [
      "job took 1.397944450378418 seconds\n"
     ]
    },
    {
     "data": {
      "image/png": "[encoded data removed]",
      "text/plain": [
       "<Figure size 576x576 with 16 Axes>"
      ]
     },
     "metadata": {
      "needs_background": "light"
     },
     "output_type": "display_data"
    }
   ],
   "source": [
    "tStart = time.time()\n",
    "_ = plot_objective(result,usepartialdependence = False, n_points = 20)\n",
    "print(\"job took \"+str(time.time()-tStart)+\" seconds\")"
   ]
  },
  {
   "cell_type": "markdown",
   "metadata": {},
   "source": [
    "Here we plot without partial dependence. We see that it is a lot faster. Also the values for the other parameters are set to the default \"result\" which is the parameter set of the best observed value so far. In the case of funny_func this is close to 0 for all parameters."
   ]
  },
  {
   "cell_type": "code",
   "execution_count": 31,
   "metadata": {},
   "outputs": [
    {
     "data": {
      "text/plain": [
       "GaussianProcessRegressor(alpha=1e-10, copy_X_train=True,\n",
       "             kernel=1**2 * Matern(length_scale=[1, 1, 1, 1], nu=2.5) + WhiteKernel(noise_level=1),\n",
       "             n_restarts_optimizer=2, noise='gaussian', normalize_y=True,\n",
       "             optimizer='fmin_l_bfgs_b', random_state=445654016)"
      ]
     },
     "execution_count": 31,
     "metadata": {},
     "output_type": "execute_result"
    }
   ],
   "source": [
    "result.models[-1]"
   ]
  },
  {
   "cell_type": "code",
   "execution_count": 35,
   "metadata": {},
   "outputs": [
    {
     "data": {
      "text/plain": [
       "[(-1, 1.0), (-1, 1.0), (-1, 1.0), (-1, 1.0)]"
      ]
     },
     "execution_count": 35,
     "metadata": {},
     "output_type": "execute_result"
    }
   ],
   "source": [
    "bounds"
   ]
  },
  {
   "cell_type": "code",
   "execution_count": 45,
   "metadata": {},
   "outputs": [
    {
     "data": {
      "text/plain": [
       "Space([Real(low=-1, high=1.0, prior='uniform', transform='identity'),\n",
       "       Real(low=-1, high=1.0, prior='uniform', transform='identity'),\n",
       "       Real(low=-1, high=1.0, prior='uniform', transform='identity'),\n",
       "       Real(low=-1, high=1.0, prior='uniform', transform='identity')])"
      ]
     },
     "execution_count": 45,
     "metadata": {},
     "output_type": "execute_result"
    }
   ],
   "source": [
    "space.Space(bounds)"
   ]
  },
  {
   "cell_type": "code",
   "execution_count": 48,
   "metadata": {},
   "outputs": [],
   "source": [
    "a = dependence(space.Space(bounds),result.models[-1],0)"
   ]
  },
  {
   "cell_type": "code",
   "execution_count": 49,
   "metadata": {},
   "outputs": [
    {
     "data": {
      "text/plain": [
       "(array([-1.        , -0.94871795, -0.8974359 , -0.84615385, -0.79487179,\n",
       "        -0.74358974, -0.69230769, -0.64102564, -0.58974359, -0.53846154,\n",
       "        -0.48717949, -0.43589744, -0.38461538, -0.33333333, -0.28205128,\n",
       "        -0.23076923, -0.17948718, -0.12820513, -0.07692308, -0.02564103,\n",
       "         0.02564103,  0.07692308,  0.12820513,  0.17948718,  0.23076923,\n",
       "         0.28205128,  0.33333333,  0.38461538,  0.43589744,  0.48717949,\n",
       "         0.53846154,  0.58974359,  0.64102564,  0.69230769,  0.74358974,\n",
       "         0.79487179,  0.84615385,  0.8974359 ,  0.94871795,  1.        ]),\n",
       " [20.437347699543338,\n",
       "  20.437154332028985,\n",
       "  20.43696411070879,\n",
       "  20.436777037293993,\n",
       "  20.436593113473055,\n",
       "  20.43641234090292,\n",
       "  20.436234721208248,\n",
       "  20.436060255977697,\n",
       "  20.43588894677659,\n",
       "  20.435720795135296,\n",
       "  20.4355558025524,\n",
       "  20.43539397050099,\n",
       "  20.435235300410824,\n",
       "  20.435079793693518,\n",
       "  20.43492745172703,\n",
       "  20.434778275849553,\n",
       "  20.4346322673796,\n",
       "  20.434489427600138,\n",
       "  20.434349757766867,\n",
       "  20.434213259097124,\n",
       "  20.434079932780957,\n",
       "  20.433949779982612,\n",
       "  20.43382280182608,\n",
       "  20.433698999417995,\n",
       "  20.433578373819145,\n",
       "  20.43346092606952,\n",
       "  20.43334665717274,\n",
       "  20.43323556810879,\n",
       "  20.433127659819025,\n",
       "  20.433022933220105,\n",
       "  20.432921389188785,\n",
       "  20.432823028576493,\n",
       "  20.432727852212693,\n",
       "  20.432635860883014,\n",
       "  20.43254705534406,\n",
       "  20.43246143632422,\n",
       "  20.432379004520357,\n",
       "  20.432299760602813,\n",
       "  20.432223705195845,\n",
       "  20.432150838911586])"
      ]
     },
     "execution_count": 49,
     "metadata": {},
     "output_type": "execute_result"
    }
   ],
   "source": []
  },
  {
   "cell_type": "code",
   "execution_count": null,
   "metadata": {},
   "outputs": [],
   "source": [
    "xi, xi_transformed = _evenly_sample(space.dimensions[i], n_points)\n",
    "yi = []\n",
    "\n",
    "\n",
    "rvs_all_ = []\n",
    "for i_points in range(n_points):\n",
    "    x_ = xi_transformed[i_points]\n",
    "    \n",
    "    rvs_ = np.array(sample_points)      # copy\n",
    "    # We replace the values in the dimension that we want to keep fixed\n",
    "    rvs_[:, dim_locs[i]:dim_locs[i + 1]] = x_  \n",
    "    rvs_all_[i_points*n_samples:(i_points+1)*n_samples,:] = rvs_\n",
    "    # In case of `x_eval=None` rvs conists of random samples.\n",
    "    # Calculating the mean of these samples is how partial dependence\n",
    "    # is implemented.\n",
    "    \n",
    "predictions = model.predict(rvs_all_)\n",
    "for i_points in range(n_points):\n",
    "    yi.append(np.mean(predictions[i_points*n_samples:(i_points+1)*n_samples]))"
   ]
  },
  {
   "cell_type": "code",
   "execution_count": 166,
   "metadata": {},
   "outputs": [],
   "source": [
    "def new_dependence(space, model, i, j=None, sample_points=None,\n",
    "                       n_samples=250, n_points=40, x_eval = None):\n",
    "    \n",
    "    # to transformed (model) dimensions.\n",
    "\n",
    "    # If we havent parsed an x_eval list we use random sampled values instead\n",
    "    if x_eval is None:\n",
    "        sample_points = space.transform(space.rvs(n_samples=n_samples))\n",
    "    else:\n",
    "        sample_points = space.transform([x_eval])\n",
    "\n",
    "    # dim_locs[i] is the (column index of the) start of dim i in sample_points.\n",
    "    # This is usefull when we are using one hot encoding, i.e using categorical values\n",
    "    dim_locs = np.cumsum([0] + [d.transformed_size for d in space.dimensions])\n",
    "\n",
    "    if j is None:\n",
    "        # We sample evenly instead of randomly. This is necessary when using\n",
    "        # categorical values\n",
    "        xi, xi_transformed = _evenly_sample(space.dimensions[i], n_points)\n",
    "        yi = []\n",
    "\n",
    "\n",
    "        rvs_all_ = np.zeros([n_samples*n_points,len(dim_locs)-1])\n",
    "        for i_points in range(n_points):\n",
    "            x_ = xi_transformed[i_points]\n",
    "\n",
    "            rvs_ = np.array(sample_points)      # copy\n",
    "            # We replace the values in the dimension that we want to keep fixed\n",
    "            rvs_[:, dim_locs[i]:dim_locs[i + 1]] = x_  \n",
    "            rvs_all_[i_points*n_samples:(i_points+1)*n_samples,:] = rvs_\n",
    "            # In case of `x_eval=None` rvs conists of random samples.\n",
    "            # Calculating the mean of these samples is how partial dependence\n",
    "            # is implemented.\n",
    "\n",
    "        predictions = model.predict(rvs_all_)\n",
    "        for i_points in range(n_points):\n",
    "            yi.append(np.mean(predictions[i_points*n_samples:(i_points+1)*n_samples]))\n",
    "\n",
    "        return xi, yi\n",
    "\n",
    "    else:\n",
    "        xi, xi_transformed = _evenly_sample(space.dimensions[j], n_points)\n",
    "        yi, yi_transformed = _evenly_sample(space.dimensions[i], n_points)\n",
    "\n",
    "        zi = []\n",
    "        for x_ in xi_transformed:\n",
    "            row = []\n",
    "            for y_ in yi_transformed:\n",
    "                rvs_ = np.array(sample_points)      # copy\n",
    "                rvs_[:, dim_locs[j]:dim_locs[j + 1]] = x_\n",
    "                rvs_[:, dim_locs[i]:dim_locs[i + 1]] = y_\n",
    "                row.append(np.mean(model.predict(rvs_)))\n",
    "            zi.append(row)\n",
    "\n",
    "        return xi, yi, np.array(zi).T"
   ]
  },
  {
   "cell_type": "code",
   "execution_count": 29,
   "metadata": {},
   "outputs": [],
   "source": [
    "def dependence(space, model, i, j=None, sample_points=None,\n",
    "                       n_samples=250, n_points=40, x_eval = None):\n",
    "    \n",
    "    # to transformed (model) dimensions.\n",
    "\n",
    "    # If we havent parsed an x_eval list we use random sampled values instead\n",
    "    if x_eval is None:\n",
    "        sample_points = space.transform(space.rvs(n_samples=n_samples))\n",
    "    else:\n",
    "        sample_points = space.transform([x_eval])\n",
    "\n",
    "    # dim_locs[i] is the (column index of the) start of dim i in sample_points.\n",
    "    # This is usefull when we are using one hot encoding, i.e using categorical values\n",
    "    dim_locs = np.cumsum([0] + [d.transformed_size for d in space.dimensions])\n",
    "\n",
    "    if j is None:\n",
    "        # We sample evenly instead of randomly. This is necessary when using\n",
    "        # categorical values\n",
    "        xi, xi_transformed = _evenly_sample(space.dimensions[i], n_points)\n",
    "        yi = []\n",
    "        for x_ in xi_transformed:\n",
    "            rvs_ = np.array(sample_points)      # copy\n",
    "            # We replace the values in the dimension that we want to keep fixed\n",
    "            rvs_[:, dim_locs[i]:dim_locs[i + 1]] = x_ \n",
    "            # In case of `x_eval=None` rvs conists of random samples.\n",
    "            # Calculating the mean of these samples is how partial dependence\n",
    "            # is implemented.\n",
    "            yi.append(np.mean(model.predict(rvs_)))\n",
    "\n",
    "        return xi, yi\n",
    "\n",
    "    else:\n",
    "        xi, xi_transformed = _evenly_sample(space.dimensions[j], n_points)\n",
    "        yi, yi_transformed = _evenly_sample(space.dimensions[i], n_points)\n",
    "\n",
    "        zi = []\n",
    "        for x_ in xi_transformed:\n",
    "            row = []\n",
    "            for y_ in yi_transformed:\n",
    "                rvs_ = np.array(sample_points)      # copy\n",
    "                rvs_[:, dim_locs[j]:dim_locs[j + 1]] = x_\n",
    "                rvs_[:, dim_locs[i]:dim_locs[i + 1]] = y_\n",
    "                row.append(np.mean(model.predict(rvs_)))\n",
    "            zi.append(row)\n",
    "\n",
    "        return xi, yi, np.array(zi).T"
   ]
  },
  {
   "cell_type": "code",
   "execution_count": null,
   "metadata": {},
   "outputs": [],
   "source": []
  }
 ],
 "metadata": {
  "kernelspec": {
   "display_name": "Python 3",
   "language": "python",
   "name": "python3"
  },
  "language_info": {
   "codemirror_mode": {
    "name": "ipython",
    "version": 3
   },
   "file_extension": ".py",
   "mimetype": "text/x-python",
   "name": "python",
   "nbconvert_exporter": "python",
   "pygments_lexer": "ipython3",
   "version": "3.6.8"
  }
 },
 "nbformat": 4,
 "nbformat_minor": 1
}
